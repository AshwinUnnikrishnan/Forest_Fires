{
  "nbformat": 4,
  "nbformat_minor": 0,
  "metadata": {
    "colab": {
      "provenance": [],
      "authorship_tag": "ABX9TyPo0uEPQqy0ZVkA/um+hrEc",
      "include_colab_link": true
    },
    "kernelspec": {
      "name": "python3",
      "display_name": "Python 3"
    },
    "language_info": {
      "name": "python"
    }
  },
  "cells": [
    {
      "cell_type": "markdown",
      "metadata": {
        "id": "view-in-github",
        "colab_type": "text"
      },
      "source": [
        "<a href=\"https://colab.research.google.com/github/AshwinUnnikrishnan/Forest_Fires/blob/main/Algerian_Forest.ipynb\" target=\"_parent\"><img src=\"https://colab.research.google.com/assets/colab-badge.svg\" alt=\"Open In Colab\"/></a>"
      ]
    },
    {
      "cell_type": "code",
      "execution_count": 1,
      "metadata": {
        "id": "gqeXaZbMRQcR"
      },
      "outputs": [],
      "source": [
        "import numpy as np\n",
        "import pandas as pd\n",
        "import matplotlib.pyplot as plt\n",
        "\n",
        "import seaborn as sns\n",
        "\n",
        "%matplotlib inline\n",
        "\n"
      ]
    },
    {
      "cell_type": "code",
      "source": [
        "dataset = pd.read_csv('/content/Algerian_forest_fires_dataset_UPDATE.csv', header=1) #header =1 because header is at 1 other things in first row\n"
      ],
      "metadata": {
        "id": "-mNXsr5JRnY1"
      },
      "execution_count": 5,
      "outputs": []
    },
    {
      "cell_type": "code",
      "source": [
        "dataset.info()"
      ],
      "metadata": {
        "colab": {
          "base_uri": "https://localhost:8080/"
        },
        "id": "BKCe79FPSMMY",
        "outputId": "682fe833-2613-4c91-e956-c710e218da27"
      },
      "execution_count": 6,
      "outputs": [
        {
          "output_type": "stream",
          "name": "stdout",
          "text": [
            "<class 'pandas.core.frame.DataFrame'>\n",
            "RangeIndex: 246 entries, 0 to 245\n",
            "Data columns (total 14 columns):\n",
            " #   Column       Non-Null Count  Dtype \n",
            "---  ------       --------------  ----- \n",
            " 0   day          246 non-null    object\n",
            " 1   month        245 non-null    object\n",
            " 2   year         245 non-null    object\n",
            " 3   Temperature  245 non-null    object\n",
            " 4    RH          245 non-null    object\n",
            " 5    Ws          245 non-null    object\n",
            " 6   Rain         245 non-null    object\n",
            " 7   FFMC         245 non-null    object\n",
            " 8   DMC          245 non-null    object\n",
            " 9   DC           245 non-null    object\n",
            " 10  ISI          245 non-null    object\n",
            " 11  BUI          245 non-null    object\n",
            " 12  FWI          245 non-null    object\n",
            " 13  Classes      244 non-null    object\n",
            "dtypes: object(14)\n",
            "memory usage: 27.0+ KB\n"
          ]
        }
      ]
    },
    {
      "cell_type": "markdown",
      "source": [
        "### Data Clearning"
      ],
      "metadata": {
        "id": "jxiSAIKTSQMx"
      }
    },
    {
      "cell_type": "markdown",
      "source": [
        "#### Missing Values"
      ],
      "metadata": {
        "id": "Pnf6assVSSbi"
      }
    }
  ]
}